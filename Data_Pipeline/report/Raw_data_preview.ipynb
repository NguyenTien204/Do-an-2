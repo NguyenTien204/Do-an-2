{
 "cells": [
  {
   "cell_type": "markdown",
   "id": "e2db3d3f",
   "metadata": {
    "vscode": {
     "languageId": "plaintext"
    }
   },
   "source": [
    "### RAW DATA INFO\n"
   ]
  },
  {
   "cell_type": "code",
   "execution_count": 4,
   "id": "e681f524",
   "metadata": {},
   "outputs": [],
   "source": [
    "import pandas as pd\n",
    "import sys\n",
    "import os\n",
    "from pymongo import MongoClient\n",
    "import matplotlib as plt\n",
    "\n",
    "\n"
   ]
  },
  {
   "cell_type": "code",
   "execution_count": 35,
   "id": "e119f674",
   "metadata": {},
   "outputs": [
    {
     "name": "stdout",
     "output_type": "stream",
     "text": [
      "['_id', 'adult', 'backdrop_path', 'belongs_to_collection', 'budget', 'genres', 'homepage', 'id', 'imdb_id', 'origin_country', 'original_language', 'original_title', 'overview', 'popularity', 'poster_path', 'production_companies', 'production_countries', 'release_date', 'revenue', 'runtime', 'spoken_languages', 'status', 'tagline', 'title', 'video', 'vote_average', 'vote_count', 'videos']\n"
     ]
    }
   ],
   "source": [
    "# c onnect to MongoDB\n",
    "def connect_to_mongo():\n",
    "    try:\n",
    "        client = MongoClient('mongodb://localhost:27017/')\n",
    "        db = client['tmdb_data']\n",
    "        col = db[\"raw_movies\"]\n",
    "        return db\n",
    "    except Exception as e:\n",
    "        print(f\"Error connecting to MongoDB: {e}\")\n",
    "        sys.exit(1)\n",
    "# Read collection from MongoDB\n",
    "def read_collection(db, collection_name):\n",
    "    try:\n",
    "        collection = db[collection_name]\n",
    "        data = pd.DataFrame(list(collection.find()))\n",
    "        return data\n",
    "    except Exception as e:\n",
    "        print(f\"Error reading collection {collection_name}: {e}\")\n",
    "        sys.exit(1)\n",
    "\n",
    "col = connect_to_mongo()\n",
    "# convert collection to DataFrame\n",
    "collection_name = \"raw_movies\" \n",
    "df = read_collection(col, collection_name)\n",
    "print(df.columns.tolist())\n",
    "#all_keys = get_all_keys(col)\n",
    "#print(all_keys)\n",
    "\n"
   ]
  },
  {
   "cell_type": "code",
   "execution_count": null,
   "id": "fcc8c71d",
   "metadata": {},
   "outputs": [],
   "source": [
    "\n"
   ]
  },
  {
   "cell_type": "code",
   "execution_count": null,
   "id": "4b33362c",
   "metadata": {},
   "outputs": [
    {
     "name": "stdout",
     "output_type": "stream",
     "text": [
      "Keys in the DataFrame:\n"
     ]
    }
   ],
   "source": [
    "# list all key names in the DataFrame\n",
    "def list_keys(data):\n",
    "    try:\n",
    "        keys = data.columns.tolist()\n",
    "        print(\"Keys in the DataFrame:\")\n",
    "        for key in keys:\n",
    "            print(key)\n",
    "    except Exception as e:\n",
    "        print(f\"Error listing keys: {e}\")\n",
    "        sys.exit(1)\n",
    "list_keys(read_collection(connect_to_mongo(), 'mycollection'))"
   ]
  }
 ],
 "metadata": {
  "kernelspec": {
   "display_name": "Python 3",
   "language": "python",
   "name": "python3"
  },
  "language_info": {
   "codemirror_mode": {
    "name": "ipython",
    "version": 3
   },
   "file_extension": ".py",
   "mimetype": "text/x-python",
   "name": "python",
   "nbconvert_exporter": "python",
   "pygments_lexer": "ipython3",
   "version": "3.10.9"
  }
 },
 "nbformat": 4,
 "nbformat_minor": 5
}
